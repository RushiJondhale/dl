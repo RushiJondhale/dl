{
 "cells": [
  {
   "cell_type": "code",
   "execution_count": null,
   "id": "48fd5e92",
   "metadata": {},
   "outputs": [],
   "source": [
    "import tensorflow as tf\n",
    "from tensorflow.keras.datasets import cifar10\n",
    "from tensorflow.keras.applications import VGG16\n",
    "from tensorflow.keras.models import Sequential\n",
    "from tensorflow.keras.layers import Flatten, Dense\n",
    "from tensorflow.keras.utils import to_categorical"
   ]
  },
  {
   "cell_type": "code",
   "execution_count": null,
   "id": "2c79f468",
   "metadata": {},
   "outputs": [],
   "source": [
    "(itrain, ltrain), (itest, ltest) = cifar10.load_data()"
   ]
  },
  {
   "cell_type": "code",
   "execution_count": null,
   "id": "1bdd02d4",
   "metadata": {},
   "outputs": [],
   "source": [
    "itrain = itrain / 255.0\n",
    "itest = itest / 255.0\n",
    "ltrain = to_categorical(ltrain)\n",
    "ltest = to_categorical(ltest)"
   ]
  },
  {
   "cell_type": "code",
   "execution_count": null,
   "id": "3d1038e4",
   "metadata": {},
   "outputs": [],
   "source": [
    "basem = VGG16(weights='imagenet', include_top=False, input_shape=(32, 32, 3))"
   ]
  },
  {
   "cell_type": "code",
   "execution_count": null,
   "id": "843725a1",
   "metadata": {},
   "outputs": [],
   "source": [
    "for layer in basem.layers:\n",
    "   layer.trainable = False"
   ]
  },
  {
   "cell_type": "code",
   "execution_count": null,
   "id": "89084ab2",
   "metadata": {},
   "outputs": [],
   "source": [
    "semodel = Sequential()\n",
    "semodel.add(basem)\n",
    "semodel.add(Flatten())\n",
    "semodel.add(Dense(256, activation='relu'))\n",
    "semodel.add(Dense(10, activation='softmax'))  # CIFAR-10 has 10 classes"
   ]
  },
  {
   "cell_type": "code",
   "execution_count": null,
   "id": "b7b9feaa",
   "metadata": {},
   "outputs": [],
   "source": [
    "semodel.compile(optimizer='adam', loss='categorical_crossentropy', metrics=['accuracy'])\n"
   ]
  },
  {
   "cell_type": "code",
   "execution_count": null,
   "id": "e2ab7273",
   "metadata": {},
   "outputs": [],
   "source": [
    "semodel.fit(itrain, ltrain, epochs=10, batch_size=32, validation_data=(itest, ltest))"
   ]
  },
  {
   "cell_type": "code",
   "execution_count": null,
   "id": "0716b09b",
   "metadata": {},
   "outputs": [],
   "source": [
    "ltest, atest = semodel.evaluate(itest, ltest)\n",
    "print(\"Test accuracy:\", atest)"
   ]
  },
  {
   "cell_type": "code",
   "execution_count": null,
   "id": "b9e6e117",
   "metadata": {},
   "outputs": [],
   "source": []
  },
  {
   "cell_type": "code",
   "execution_count": null,
   "id": "194525cf",
   "metadata": {},
   "outputs": [],
   "source": []
  }
 ],
 "metadata": {
  "kernelspec": {
   "display_name": "Python 3 (ipykernel)",
   "language": "python",
   "name": "python3"
  },
  "language_info": {
   "codemirror_mode": {
    "name": "ipython",
    "version": 3
   },
   "file_extension": ".py",
   "mimetype": "text/x-python",
   "name": "python",
   "nbconvert_exporter": "python",
   "pygments_lexer": "ipython3",
   "version": "3.11.5"
  }
 },
 "nbformat": 4,
 "nbformat_minor": 5
}
